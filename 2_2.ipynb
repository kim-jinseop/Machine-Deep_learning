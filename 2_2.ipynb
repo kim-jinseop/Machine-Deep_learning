{
  "nbformat": 4,
  "nbformat_minor": 0,
  "metadata": {
    "colab": {
      "name": "2_2.ipynb",
      "provenance": [],
      "collapsed_sections": [],
      "authorship_tag": "ABX9TyMfVDQz0p3S51Ryves2A2Tv",
      "include_colab_link": true
    },
    "kernelspec": {
      "name": "python3",
      "display_name": "Python 3"
    },
    "language_info": {
      "name": "python"
    }
  },
  "cells": [
    {
      "cell_type": "markdown",
      "metadata": {
        "id": "view-in-github",
        "colab_type": "text"
      },
      "source": [
        "<a href=\"https://colab.research.google.com/github/uskhbs/Machine_learning/blob/main/2_2.ipynb\" target=\"_parent\"><img src=\"https://colab.research.google.com/assets/colab-badge.svg\" alt=\"Open In Colab\"/></a>"
      ]
    },
    {
      "cell_type": "code",
      "execution_count": 4,
      "metadata": {
        "colab": {
          "base_uri": "https://localhost:8080/"
        },
        "id": "9WB5xOGARK3G",
        "outputId": "4c1ab361-3890-4285-a51b-02baaa9a2631"
      },
      "outputs": [
        {
          "output_type": "stream",
          "name": "stdout",
          "text": [
            "(36, 2) (13, 2)\n",
            "[0. 0. 1. 0. 1. 0. 1. 1. 1. 1. 1. 1. 1.]\n"
          ]
        }
      ],
      "source": [
        "bream_length = [25.4, 26.3, 26.5, 29.0, 29.0,\n",
        "                29.7, 29.7, 30.0, 30.0, 30.7, \n",
        "                31.0, 31.0, 31.5, 32.0, 32.0,\n",
        "                32.0, 33.0, 33.0, 33.5, 33.5, \n",
        "                34.0, 34.0, 34.5, 35.0, 35.0, \n",
        "                35.0, 35.0, 36.0, 36.0, 37.0, \n",
        "                38.5, 38.5, 39.5, 41.0, 41.0]\n",
        "\n",
        "bream_weight = [242.0, 290.0, 340.0, 363.0, 430.0, \n",
        "                450.0, 500.0, 390.0, 450.0, 500.0, \n",
        "                475.0, 500.0, 500.0, 340.0, 600.0,\n",
        "                600.0, 700.0, 700.0, 610.0, 650.0, \n",
        "                575.0, 685.0, 620.0, 680.0, 700.0, \n",
        "                725.0, 720.0, 714.0, 850.0, 1000.0, \n",
        "                920.0, 955.0, 925.0, 975.0, 950.0]\n",
        "\n",
        "smelt_length = [9.8, 10.5, 10.6, 11.0, 11.2, 11.3, 11.8, 11.8, 12.0, 12.2, 12.4, 13.0, 14.3, 15.0]\n",
        "smelt_weight = [6.7, 7.5, 7.0, 9.7, 9.8, 8.7, 10.0, 9.9, 9.8, 12.2, 13.4, 12.2, 19.7, 19.9]\n",
        "\n",
        "fish_length = bream_length + smelt_length\n",
        "fish_weight = bream_weight + smelt_weight\n",
        "\n",
        "\n",
        "import numpy as np\n",
        "fish_data = np.column_stack((fish_length, fish_weight)) #전달 받은 리스트를 일렬로 세운다음 나란히 연결\n",
        "fish_target = np.concatenate((np.ones(35),np.zeros(14)))\n",
        "\n",
        "#훈련세트와 테스트세트로 나누기\n",
        "from sklearn.model_selection import train_test_split\n",
        "#stratify -> 타깃 데이터를 전달하면 클래스 비율에 맞게 데이터를 나눈다\n",
        "train_input, test_input, train_target, test_target = train_test_split(fish_data, fish_target, stratify=fish_target, random_state=42)\n",
        "\n",
        "print(train_input.shape, test_input.shape) #shape 입력데이터 크기\n",
        "print(test_target)"
      ]
    },
    {
      "cell_type": "code",
      "source": [
        "from sklearn.neighbors import KNeighborsClassifier\n",
        "kn = KNeighborsClassifier()\n",
        "kn.fit(train_input, train_target)\n",
        "kn.score(test_input, test_target)"
      ],
      "metadata": {
        "colab": {
          "base_uri": "https://localhost:8080/"
        },
        "id": "VtI5CSLTaeIT",
        "outputId": "7e1541d4-55e4-4723-a1b5-e9eb81fd4bed"
      },
      "execution_count": 5,
      "outputs": [
        {
          "output_type": "execute_result",
          "data": {
            "text/plain": [
              "1.0"
            ]
          },
          "metadata": {},
          "execution_count": 5
        }
      ]
    },
    {
      "cell_type": "markdown",
      "source": [
        ""
      ],
      "metadata": {
        "id": "Estg0h6QfrCX"
      }
    },
    {
      "cell_type": "code",
      "source": [
        "import matplotlib.pyplot as plt\n",
        "\n",
        "distance, indexes = kn.kneighbors([[25, 150]])\n",
        "\n",
        "plt.scatter(train_input[:,0], train_input[:,1])\n",
        "plt.scatter(25, 150, marker='^')\n",
        "plt.scatter(train_input[indexes, 0], train_input[indexes,1], marker='D')\n",
        "plt.xlabel('length')\n",
        "plt.ylabel('weight')\n",
        "plt.show()"
      ],
      "metadata": {
        "colab": {
          "base_uri": "https://localhost:8080/",
          "height": 279
        },
        "id": "NXC7ZBFPa5g_",
        "outputId": "cc7a635b-016f-4602-8141-59fb126f14a8"
      },
      "execution_count": 6,
      "outputs": [
        {
          "output_type": "display_data",
          "data": {
            "text/plain": [
              "<Figure size 432x288 with 1 Axes>"
            ],
            "image/png": "[encoded data removed]"
          },
          "metadata": {
            "needs_background": "light"
          }
        }
      ]
    },
    {
      "cell_type": "code",
      "source": [
        "distance, index = kn.kneighbors([[25, 150]])\n",
        "print(train_target[indexes])"
      ],
      "metadata": {
        "colab": {
          "base_uri": "https://localhost:8080/"
        },
        "id": "HNxnbGfWgfsc",
        "outputId": "5936103c-c395-42d6-bc3a-b45526e21ba5"
      },
      "execution_count": 9,
      "outputs": [
        {
          "output_type": "stream",
          "name": "stdout",
          "text": [
            "[[1. 0. 0. 0. 0.]]\n"
          ]
        }
      ]
    }
  ]
}
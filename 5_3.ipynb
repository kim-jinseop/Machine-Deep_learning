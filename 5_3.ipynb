{
  "nbformat": 4,
  "nbformat_minor": 0,
  "metadata": {
    "colab": {
      "name": "5_3.ipynb",
      "provenance": [],
      "collapsed_sections": [],
      "authorship_tag": "ABX9TyOBjwIVsUHiFrYedt1aDe/V",
      "include_colab_link": true
    },
    "kernelspec": {
      "name": "python3",
      "display_name": "Python 3"
    },
    "language_info": {
      "name": "python"
    }
  },
  "cells": [
    {
      "cell_type": "markdown",
      "metadata": {
        "id": "view-in-github",
        "colab_type": "text"
      },
      "source": [
        "<a href=\"https://colab.research.google.com/github/uskhbs/Machine_learning/blob/main/5_3.ipynb\" target=\"_parent\"><img src=\"https://colab.research.google.com/assets/colab-badge.svg\" alt=\"Open In Colab\"/></a>"
      ]
    },
    {
      "cell_type": "code",
      "execution_count": 38,
      "metadata": {
        "colab": {
          "base_uri": "https://localhost:8080/"
        },
        "id": "dFsPyYhbLL_4",
        "outputId": "3db09c69-71d3-483a-8923-55e716160d28"
      },
      "outputs": [
        {
          "output_type": "stream",
          "name": "stdout",
          "text": [
            "0.9973541965122431 0.8905151032797809\n"
          ]
        }
      ],
      "source": [
        "# 트리의 앙상블\n",
        "\n",
        "# 앙상블 학습 1. 랜덤 포레스트(random forest)\n",
        "# 돌아보기 -> 분류 : 샘플을 몇 개의 클래스 중 하나로 분류하는 문제, 회귀 : 임의의 어떤 숫자를 예측하는 문제\n",
        "\n",
        "import numpy as np\n",
        "import pandas as pd\n",
        "from sklearn.model_selection import train_test_split\n",
        "wine = pd.read_csv('https://bit.ly/wine_csv_data')\n",
        "data = wine[['alcohol', 'sugar', 'pH']].to_numpy()\n",
        "target = wine['class'].to_numpy()\n",
        "train_input, test_input, train_target, test_target = train_test_split(data, target, test_size=0.2, random_state=42)\n",
        "\n",
        "\n",
        "from sklearn.model_selection import cross_validate   # 교차 검증 수행\n",
        "from sklearn.ensemble import RandomForestClassifier  # 기본 100개 결정트리\n",
        "rf = RandomForestClassifier(n_jobs=-1, random_state=42)\n",
        "\n",
        "scores = cross_validate(rf, train_input, train_target, return_train_score=True, n_jobs=-1)  # return_train_score = True ->  검증 점수 뿐만 아니라 훈련세트에 대한 점수도 반환\n",
        "print(np.mean(scores['train_score']), np.mean(scores['test_score']))"
      ]
    },
    {
      "cell_type": "code",
      "source": [
        "rf.fit(train_input, train_target)\n",
        "print(rf.feature_importances_)"
      ],
      "metadata": {
        "colab": {
          "base_uri": "https://localhost:8080/"
        },
        "id": "jFDJZQWNTuVg",
        "outputId": "1539dac5-e986-4427-c086-d4b772db5366"
      },
      "execution_count": 39,
      "outputs": [
        {
          "output_type": "stream",
          "name": "stdout",
          "text": [
            "[0.23167441 0.50039841 0.26792718]\n"
          ]
        }
      ]
    },
    {
      "cell_type": "code",
      "source": [
        "# 자체적으로 모델을 평가하는 점수 -> OOB(out of bag)\n",
        "# oob_score 매개변수를 True : 랜덤 포레스트는 각 결정 트리의 OOB 점수를 평균하여 출력\n",
        "rf = RandomForestClassifier(oob_score=True, n_jobs=-1, random_state=42)\n",
        "rf.fit(train_input, train_target)\n",
        "print(rf.oob_score_)"
      ],
      "metadata": {
        "id": "P4XiXKRvaloM",
        "colab": {
          "base_uri": "https://localhost:8080/"
        },
        "outputId": "79184e59-0261-4d09-ca4e-23a38d79d177"
      },
      "execution_count": 40,
      "outputs": [
        {
          "output_type": "stream",
          "name": "stdout",
          "text": [
            "0.8934000384837406\n"
          ]
        }
      ]
    },
    {
      "cell_type": "code",
      "source": [
        "# 앙상블 학습 2. 엑스트라 트리(Extra Trees)\n",
        "# 엑스트라 트리의 회귀 버전 : ExtraTreesRegressor\n",
        "# 랜덤 포레스트와의 차이점 : 부트스트랩 샘플을 사용하지 않는다.\n",
        "\n",
        "from sklearn.ensemble import ExtraTreesClassifier\n",
        "et = ExtraTreesClassifier(n_jobs=-1, random_state=42)\n",
        "scores = cross_validate(et, train_input, train_target, return_train_score=True, n_jobs=-1)\n",
        "print(np.mean(scores['train_score']),np.mean(scores['test_score']))"
      ],
      "metadata": {
        "colab": {
          "base_uri": "https://localhost:8080/"
        },
        "id": "ZxwFuiOVKJIv",
        "outputId": "531dd2f5-417b-4409-8b89-702c2bbec617"
      },
      "execution_count": 41,
      "outputs": [
        {
          "output_type": "stream",
          "name": "stdout",
          "text": [
            "0.9974503966084433 0.8887848893166506\n"
          ]
        }
      ]
    },
    {
      "cell_type": "code",
      "source": [
        "et.fit(train_input, train_target)\n",
        "print(et.feature_importances_)"
      ],
      "metadata": {
        "colab": {
          "base_uri": "https://localhost:8080/"
        },
        "id": "kiV2GSH-ej3a",
        "outputId": "12d2644b-7b61-4e64-e06e-2c276be8ca7f"
      },
      "execution_count": 42,
      "outputs": [
        {
          "output_type": "stream",
          "name": "stdout",
          "text": [
            "[0.20183568 0.52242907 0.27573525]\n"
          ]
        }
      ]
    },
    {
      "cell_type": "code",
      "source": [
        "# 앙상블 학습 3. 그레이디언트 부스팅(gradient boosting)\n",
        "# 깊이가 얕은 결정 트리를 사용하여 이전 트리의 오차를 보완하는 방식으로 앙상블 하는 방법\n",
        "# 일반적으로 랜덤 포레스트보다 조금 더 높은 성능을 얻을 수 있다. 하지만 순서대로 트리를 추가하기 때문에 훈련 속도가 느리다.\n",
        "\n",
        "from sklearn.ensemble import GradientBoostingClassifier # 깊이가 3인 결정 트리를 100개 사용\n",
        "gb = GradientBoostingClassifier(random_state=42)\n",
        "scores = cross_validate(gb, train_input, train_target, return_train_score=True, n_jobs=-1)\n",
        "print(np.mean(scores['train_score']), np.mean(scores['test_score']))\n",
        "\n",
        "gb = GradientBoostingClassifier(n_estimators=500, learning_rate=0.2, random_state=42) # learning_rate 의 기본 값 0.1\n",
        "scores = cross_validate(gb, train_input, train_target, return_train_score=True, n_jobs=-1)\n",
        "print(np.mean(scores['train_score']), np.mean(scores['test_score']))"
      ],
      "metadata": {
        "colab": {
          "base_uri": "https://localhost:8080/"
        },
        "id": "7a2VInMA7cB9",
        "outputId": "8fe0f027-adc5-4db0-de98-32cc2387188a"
      },
      "execution_count": 43,
      "outputs": [
        {
          "output_type": "stream",
          "name": "stdout",
          "text": [
            "0.8881086892152563 0.8720430147331015\n",
            "0.9464595437171814 0.8780082549788999\n"
          ]
        }
      ]
    },
    {
      "cell_type": "code",
      "source": [
        "gb.fit(train_input, train_target)\n",
        "print(gb.feature_importances_)"
      ],
      "metadata": {
        "colab": {
          "base_uri": "https://localhost:8080/"
        },
        "id": "YC7QmaV_-TqE",
        "outputId": "5c8511e1-9f20-4928-8f75-01fbea7076a4"
      },
      "execution_count": 44,
      "outputs": [
        {
          "output_type": "stream",
          "name": "stdout",
          "text": [
            "[0.15872278 0.68010884 0.16116839]\n"
          ]
        }
      ]
    },
    {
      "cell_type": "code",
      "source": [
        "# 앙상블 학습 4. 히스토그램 기반 그레이디언트 부스팅(Histogream-based Gradient Boosting)\n",
        "# 정형 제이터를 다루는 머신러닝 알고리즘 중에 가장 인기가 높은 알고리즘\n",
        "\n",
        "from sklearn.ensemble import HistGradientBoostingClassifier\n",
        "hgb = HistGradientBoostingClassifier(random_state=42)\n",
        "scores = cross_validate(hgb, train_input, train_target, return_train_score=True)\n",
        "print(np.mean(scores['train_score']), np.mean(scores['test_score']))"
      ],
      "metadata": {
        "colab": {
          "base_uri": "https://localhost:8080/"
        },
        "id": "v8gfaypeE8r-",
        "outputId": "9513fd3d-3757-45c3-84aa-6945b54fbbac"
      },
      "execution_count": 45,
      "outputs": [
        {
          "output_type": "stream",
          "name": "stdout",
          "text": [
            "0.9321723946453317 0.8801241948619236\n"
          ]
        }
      ]
    },
    {
      "cell_type": "code",
      "source": [
        "# pernutation_importance()\n",
        "# 하나씩 랜덤하게 섞어서 모델의 성능이 변화하는지를 관찰하여 어떤 특성이 중요한지 계산\n",
        "# 특성 중요도(importance), 평균(importances_mean), 표준 편자(importances_std)\n",
        "\n",
        "from sklearn.inspection import permutation_importance\n",
        "hgb.fit(train_input, train_target)\n",
        "\n",
        "# n_repeats : 랜덤하게 섞을 횟수 (기본값 5)\n",
        "result = permutation_importance(hgb, train_input, train_target, n_repeats=10, random_state=42, n_jobs=-1)\n",
        "print(result.importances_mean)\n",
        "\n",
        "result = permutation_importance(hgb, test_input, test_target, n_repeats=10, random_state=42, n_jobs=-1)\n",
        "print(result.importances_mean)"
      ],
      "metadata": {
        "colab": {
          "base_uri": "https://localhost:8080/"
        },
        "id": "kFqerJFyKUnU",
        "outputId": "bc655b9f-cf0b-4cf3-b735-378e04737820"
      },
      "execution_count": 46,
      "outputs": [
        {
          "output_type": "stream",
          "name": "stdout",
          "text": [
            "[0.08876275 0.23438522 0.08027708]\n",
            "[0.05969231 0.20238462 0.049     ]\n"
          ]
        }
      ]
    },
    {
      "cell_type": "code",
      "source": [
        "hgb.score(test_input, test_target) \n",
        "# 결과 : 87% 정확도"
      ],
      "metadata": {
        "colab": {
          "base_uri": "https://localhost:8080/"
        },
        "id": "R72ZOVb6MS-i",
        "outputId": "a0485520-3892-4157-87a1-ffd47e6efdac"
      },
      "execution_count": 47,
      "outputs": [
        {
          "output_type": "execute_result",
          "data": {
            "text/plain": [
              "0.8723076923076923"
            ]
          },
          "metadata": {},
          "execution_count": 47
        }
      ]
    },
    {
      "cell_type": "code",
      "source": [
        "# XGBoost 라이브러리 : 그레디언트 부스팅 알고리즘을 구현한 라이브러리\n",
        "from xgboost import XGBClassifier\n",
        "# tree_mothod = 'hist': 히스토그램 기반 그레이디언트 부스팅 사용가능\n",
        "xgb = XGBClassifier(tree_method='hist', random_state=42)\n",
        "scores = cross_validate(xgb, train_input, train_target, return_train_score=True)\n",
        "print(np.mean(scores['train_score']), np.mean(scores['test_score']))"
      ],
      "metadata": {
        "colab": {
          "base_uri": "https://localhost:8080/"
        },
        "id": "c7gyZ--JPLik",
        "outputId": "a7bb031b-873d-4f7e-bd5d-48f498f74d92"
      },
      "execution_count": 52,
      "outputs": [
        {
          "output_type": "stream",
          "name": "stdout",
          "text": [
            "0.8824322471423747 0.8726214185237284\n"
          ]
        }
      ]
    },
    {
      "cell_type": "code",
      "source": [
        "# LightGBM : 마이크로소포트에서 만든 히스토그램 기반 그레이디언트 부스팅 라이브러리\n",
        "from lightgbm import LGBMClassifier\n",
        "lgb = LGBMClassifier(random_state=42)\n",
        "scores = cross_validate(lgb, train_input, train_target, return_train_score=True, n_jobs=-1)\n",
        "print(np.mean(scores['train_score']), np.mean(scores['test_score']))"
      ],
      "metadata": {
        "colab": {
          "base_uri": "https://localhost:8080/"
        },
        "id": "Jv1CyW9mQJR-",
        "outputId": "5162b6df-59b2-4e63-caa0-ef8b16b9bab7"
      },
      "execution_count": 54,
      "outputs": [
        {
          "output_type": "stream",
          "name": "stdout",
          "text": [
            "0.9338079582727165 0.8789710890649293\n"
          ]
        }
      ]
    }
  ]
}
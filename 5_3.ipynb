{
  "nbformat": 4,
  "nbformat_minor": 0,
  "metadata": {
    "colab": {
      "name": "5_3.ipynb",
      "provenance": [],
      "authorship_tag": "ABX9TyMTJrF1MRFVHYvJ/spVWSer",
      "include_colab_link": true
    },
    "kernelspec": {
      "name": "python3",
      "display_name": "Python 3"
    },
    "language_info": {
      "name": "python"
    }
  },
  "cells": [
    {
      "cell_type": "markdown",
      "metadata": {
        "id": "view-in-github",
        "colab_type": "text"
      },
      "source": [
        "<a href=\"https://colab.research.google.com/github/uskhbs/Machine_learning/blob/main/5_3.ipynb\" target=\"_parent\"><img src=\"https://colab.research.google.com/assets/colab-badge.svg\" alt=\"Open In Colab\"/></a>"
      ]
    },
    {
      "cell_type": "code",
      "execution_count": 4,
      "metadata": {
        "colab": {
          "base_uri": "https://localhost:8080/"
        },
        "id": "dFsPyYhbLL_4",
        "outputId": "b3b26f98-229a-49ad-ac3a-f2a76af93427"
      },
      "outputs": [
        {
          "output_type": "stream",
          "name": "stdout",
          "text": [
            "0.9973541965122431 0.8905151032797809\n"
          ]
        }
      ],
      "source": [
        "# 트리의 앙상블\n",
        "\n",
        "# 랜덤 포레스트(random forest)\n",
        "# 돌아보기 -> 분류 : 샘플을 몇 개의 클래스 중 하나로 분류하는 문제, 회귀 : 임의의 어떤 숫자를 예측하는 문제\n",
        "\n",
        "import numpy as np\n",
        "import pandas as pd\n",
        "from sklearn.model_selection import train_test_split\n",
        "wine = pd.read_csv('https://bit.ly/wine_csv_data')\n",
        "data = wine[['alcohol', 'sugar', 'pH']].to_numpy()\n",
        "target = wine['class'].to_numpy()\n",
        "train_input, test_input, train_target, test_target = train_test_split(data, target, test_size=0.2, random_state=42)\n",
        "\n",
        "\n",
        "from sklearn.model_selection import cross_validate   # 교차 검증 수행\n",
        "from sklearn.ensemble import RandomForestClassifier  # 기본 100개 결정트리\n",
        "rf = RandomForestClassifier(n_jobs=-1, random_state=42)\n",
        "\n",
        "scores = cross_validate(rf, train_input, train_target, return_train_score=True, n_jobs=-1)  # return_train_score = True ->  검증 점수 뿐만 아니라 훈련세트에 대한 점수도 반환\n",
        "print(np.mean(scores['train_score']), np.mean(scores['test_score']))"
      ]
    },
    {
      "cell_type": "code",
      "source": [
        ""
      ],
      "metadata": {
        "id": "jFDJZQWNTuVg"
      },
      "execution_count": null,
      "outputs": []
    }
  ]
}